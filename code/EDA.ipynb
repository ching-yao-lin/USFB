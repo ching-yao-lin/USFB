{
 "cells": [
  {
   "cell_type": "markdown",
   "id": "worse-means",
   "metadata": {},
   "source": [
    "# EDA"
   ]
  },
  {
   "cell_type": "code",
   "execution_count": 76,
   "id": "different-channel",
   "metadata": {},
   "outputs": [],
   "source": [
    "import numpy as np\n",
    "import pandas as pd\n",
    "import matplotlib.pyplot as plt\n",
    "import matplotlib.ticker as mticker\n",
    "import seaborn as sns\n",
    "%matplotlib inline"
   ]
  },
  {
   "cell_type": "code",
   "execution_count": 2,
   "id": "standing-olive",
   "metadata": {},
   "outputs": [
    {
     "name": "stdout",
     "output_type": "stream",
     "text": [
      "/home3/r09725056/Desktop/analysis-ChingYaoL\n"
     ]
    }
   ],
   "source": [
    "import os\n",
    "os.chdir('/home3/r09725056/Desktop/analysis-ChingYaoL')\n",
    "print(os.getcwd())\n",
    "# Use relative paths in the code"
   ]
  },
  {
   "cell_type": "code",
   "execution_count": 3,
   "id": "brave-pavilion",
   "metadata": {},
   "outputs": [
    {
     "name": "stdout",
     "output_type": "stream",
     "text": [
      "input code output temp .git README.md "
     ]
    }
   ],
   "source": [
    "for file in os.listdir():\n",
    "    print(file, end=' ')"
   ]
  },
  {
   "cell_type": "markdown",
   "id": "capital-thomas",
   "metadata": {},
   "source": [
    "#### Suggested workflow from README\n",
    "* Use relative paths in the code\n",
    "* Read data from _input_\n",
    "* Export generated tables or figures to _output_\n",
    "* Read/Write other temporary files from _temp_"
   ]
  },
  {
   "cell_type": "code",
   "execution_count": 4,
   "id": "instant-policy",
   "metadata": {},
   "outputs": [],
   "source": [
    "from IPython.core.interactiveshell import InteractiveShell\n",
    "InteractiveShell.ast_node_interactivity = \"all\" # 讓 DataFrame Output可以重複疊起來\n",
    "pd.set_option('display.max_columns', None) # show all columns"
   ]
  },
  {
   "cell_type": "code",
   "execution_count": 5,
   "id": "about-revision",
   "metadata": {},
   "outputs": [],
   "source": [
    "import datetime\n",
    "# from pandas_profiling import ProfileReport"
   ]
  },
  {
   "cell_type": "code",
   "execution_count": 6,
   "id": "automatic-cruise",
   "metadata": {},
   "outputs": [],
   "source": [
    "import contractions \n",
    "import nltk\n",
    "import string\n",
    "import fasttext\n",
    "import contractions # resolving contractions and slangs, e.g. \"yall're happy now\" --> \"you all are happy now\"\n",
    "from nltk.tokenize import word_tokenize\n",
    "from nltk.corpus import stopwords, wordnet\n",
    "from nltk.stem import WordNetLemmatizer"
   ]
  },
  {
   "cell_type": "markdown",
   "id": "willing-atlanta",
   "metadata": {},
   "source": [
    "* [PyPI for fasttext](https://pypi.org/project/fasttext/)\n",
    "* [medium for fasttext](https://medium.com/@c.chaitanya/language-identification-in-python-using-fasttext-60359dc30ed0)\n",
    "* [GitHub for contractions](https://github.com/kootenpv/contractions)"
   ]
  },
  {
   "cell_type": "code",
   "execution_count": 7,
   "id": "literary-dominican",
   "metadata": {},
   "outputs": [],
   "source": [
    "# Info\n",
    "# page_info = pd.read_csv(r'input/page/1000-page-info.csv')\n",
    "# politician_info = pd.read_csv(r'input/page/politician-info.csv')\n",
    "page_politician_info = pd.read_csv(r'input/page/1000-page-and-politician-info.csv')\n",
    "\n",
    "# Post\n",
    "top_1000_pages = pd.read_csv(r'input/post/1000-page/2015-01-01-to-2017-04-08.csv')\n",
    "politician_pages = pd.read_csv(r'input/post/politician/2015-01-01-to-2016-11-30.csv')\n",
    "\n",
    "# Reaction\n"
   ]
  },
  {
   "cell_type": "code",
   "execution_count": 8,
   "id": "entertaining-microwave",
   "metadata": {},
   "outputs": [
    {
     "data": {
      "text/plain": [
       "(2466, 12)"
      ]
     },
     "execution_count": 8,
     "metadata": {},
     "output_type": "execute_result"
    },
    {
     "data": {
      "text/plain": [
       "(14747946, 21)"
      ]
     },
     "execution_count": 8,
     "metadata": {},
     "output_type": "execute_result"
    },
    {
     "data": {
      "text/plain": [
       "(592891, 21)"
      ]
     },
     "execution_count": 8,
     "metadata": {},
     "output_type": "execute_result"
    }
   ],
   "source": [
    "page_politician_info.shape\n",
    "top_1000_pages.shape\n",
    "politician_pages.shape"
   ]
  },
  {
   "cell_type": "code",
   "execution_count": 9,
   "id": "maritime-bacon",
   "metadata": {},
   "outputs": [
    {
     "name": "stdout",
     "output_type": "stream",
     "text": [
      "Index(['page_id', 'page_name', 'type', 'type_sub', 'page_url',\n",
      "       'politician_name', 'party', 'chamber', 'state', 'district_rep',\n",
      "       'main_page', 'post_count'],\n",
      "      dtype='object')\n",
      "12\n",
      "Index(['page_id', 'page_name', 'post_id', 'post_type', 'post_name',\n",
      "       'post_message', 'post_caption', 'post_picture', 'post_link',\n",
      "       'post_description', 'post_reactions', 'post_likes', 'post_comments',\n",
      "       'post_shares', 'post_created_time_CT', 'post_updated_time_CT',\n",
      "       'post_created_date_CT', 'post_updated_date_CT', 'post_created_time',\n",
      "       'post_updated_time', 'page_talking_about_count'],\n",
      "      dtype='object')\n",
      "21\n",
      "Index(['page_id', 'page_name', 'post_id', 'post_type', 'post_name',\n",
      "       'post_message', 'post_caption', 'post_picture', 'post_link',\n",
      "       'post_description', 'post_reactions', 'post_likes', 'post_comments',\n",
      "       'post_shares', 'post_created_time_CT', 'post_updated_time_CT',\n",
      "       'post_created_date_CT', 'post_updated_date_CT', 'post_created_time',\n",
      "       'post_updated_time', 'page_talking_about_count'],\n",
      "      dtype='object')\n",
      "21\n"
     ]
    }
   ],
   "source": [
    "print(page_politician_info.columns)\n",
    "print(len(page_politician_info.columns))\n",
    "print(top_1000_pages.columns)\n",
    "print(len(top_1000_pages.columns))\n",
    "print(politician_pages.columns)\n",
    "print(len(politician_pages.columns))"
   ]
  },
  {
   "cell_type": "code",
   "execution_count": 10,
   "id": "answering-scholarship",
   "metadata": {},
   "outputs": [],
   "source": [
    "# def contract_message(x):\n",
    "#     try:\n",
    "#         return contractions.fix(x)\n",
    "#     except IndexError:\n",
    "#         return x\n",
    "#     except AttributeError:\n",
    "#         return x\n",
    "    \n",
    "def func_to_nonstring(func):\n",
    "    \"\"\"\n",
    "    A decorator that allows a function to bypass nonstring arguments. That is, func applies only to nonstrings.\n",
    "    \"\"\"\n",
    "    def wrapper_func(x):\n",
    "        try:\n",
    "            return func(x)\n",
    "        except IndexError:\n",
    "            return x\n",
    "        except AttributeError:\n",
    "            return x\n",
    "    return wrapper_func\n",
    "\n",
    "@func_to_nonstring\n",
    "def contract_message(x):\n",
    "    return contractions.fix(x)"
   ]
  },
  {
   "cell_type": "code",
   "execution_count": 11,
   "id": "subtle-greek",
   "metadata": {},
   "outputs": [],
   "source": [
    "top_1000_pages['post_message'] = top_1000_pages['post_message'].apply(contract_message)"
   ]
  },
  {
   "cell_type": "code",
   "execution_count": 12,
   "id": "concrete-handy",
   "metadata": {},
   "outputs": [
    {
     "name": "stdout",
     "output_type": "stream",
     "text": [
      "Cops are seeking the public's help in finding a pervert who exposed himself to a woman and threatened a man with a gun in a Midtown subway station, authorities said Wednesday. http://nydn.us/1jT002M\n",
      "\"Each employee gets to figure out what is best for them and their family,\" Netflix said. \n",
      "\n",
      "Will other companies follow suit?\n",
      "We are headed down a slippery slope here, liberals and transgender people may get what they wish but at the same time could soon regret it....\n",
      "I mean with this,what could possibly go wrong?\n",
      "#America #LGBT #Equality\n",
      "it is a long way from darkened basements, hooded robes and drinking from a skull.\r\n",
      "Or maybe it is not.\r\n",
      "What do we know? we are just the little people.\n",
      "Must be nice.\n"
     ]
    }
   ],
   "source": [
    "top_1000_pages['post_message'].sample(5).apply(lambda x: print(x));"
   ]
  },
  {
   "cell_type": "code",
   "execution_count": 13,
   "id": "arbitrary-quality",
   "metadata": {},
   "outputs": [
    {
     "name": "stdout",
     "output_type": "stream",
     "text": [
      "1410491\n",
      "13337455\n",
      "null rate: 0.105754 %\n"
     ]
    }
   ],
   "source": [
    "print(top_1000_pages['post_message'].isna().sum())\n",
    "print(top_1000_pages['post_message'].notna().sum())\n",
    "print(f\"null rate: {top_1000_pages['post_message'].isna().sum() / top_1000_pages['post_message'].notna().sum():.6f} %\")"
   ]
  },
  {
   "cell_type": "markdown",
   "id": "strange-replication",
   "metadata": {},
   "source": [
    "### English Lanuage Detection\n",
    "The reason I use fasttext: [Benchmarking Language Detection for NLP](https://towardsdatascience.com/benchmarking-language-detection-for-nlp-8250ea8b67c)"
   ]
  },
  {
   "cell_type": "code",
   "execution_count": 34,
   "id": "enormous-singles",
   "metadata": {},
   "outputs": [
    {
     "name": "stderr",
     "output_type": "stream",
     "text": [
      "Warning : `load_model` does not return WordVectorModel or SupervisedModel any more, but a `FastText` object which is very similar.\n"
     ]
    }
   ],
   "source": [
    "pretrained_model = \"/home3/r09725056/.conda/envs/usfb/lib/python3.7/site-packages/fasttext/lid.176.bin\"\n",
    "model = fasttext.load_model(pretrained_model)\n",
    "\n",
    "@func_to_nonstring\n",
    "def predict_language(sent):\n",
    "    sent = sent.replace('\\n', ' ')\n",
    "    pred = model.predict(sent) # model.predict() returns a tuple like this: (('__label__en',), array([0.95346403]))\n",
    "    return pred[0][0].split('_')[-1]"
   ]
  },
  {
   "cell_type": "code",
   "execution_count": 35,
   "id": "overall-console",
   "metadata": {},
   "outputs": [],
   "source": [
    "top_1000_pages['language'] = top_1000_pages['post_message'].apply(predict_language)"
   ]
  },
  {
   "cell_type": "code",
   "execution_count": 65,
   "id": "numerical-humor",
   "metadata": {},
   "outputs": [
    {
     "data": {
      "text/plain": [
       "en     0.864186\n",
       "NaN    0.095640\n",
       "es     0.026220\n",
       "ja     0.003480\n",
       "ru     0.001332\n",
       "         ...   \n",
       "cv     0.000000\n",
       "ce     0.000000\n",
       "scn    0.000000\n",
       "sd     0.000000\n",
       "frr    0.000000\n",
       "Name: language, Length: 148, dtype: float64"
      ]
     },
     "execution_count": 65,
     "metadata": {},
     "output_type": "execute_result"
    }
   ],
   "source": [
    "top_1000_pages['language'].value_counts(dropna=False, normalize=True).round(6)"
   ]
  },
  {
   "cell_type": "code",
   "execution_count": 125,
   "id": "canadian-tomorrow",
   "metadata": {},
   "outputs": [
    {
     "name": "stdout",
     "output_type": "stream",
     "text": [
      "null rate = 9.563983 %\n"
     ]
    }
   ],
   "source": [
    "def filter_top_unique_elements(ser, thres=0.001, ndecimal=6, show_null_rate=True):\n",
    "    \"\"\"\n",
    "    Return top unique elements which take up no less than 0.001 (or thres) in the entire pd.Series\n",
    "    This is done through ser.value_counts(normalize=True, dropna=False)\n",
    "    \"\"\"\n",
    "    filt = (ser.value_counts(dropna=False, normalize=True) >= thres)\n",
    "    if show_null_rate:\n",
    "        print(f\"null rate = {ser.isnull().mean() * 100:.6f} %\")\n",
    "    return ser.value_counts(dropna=False).loc[filt].round(ndecimal)\n",
    "\n",
    "# filter for languages that's at least 0.1%, then assign to top_languages\n",
    "lang_thres = 0.001\n",
    "top_languages = filter_top_unique_elements(top_1000_pages['language'], lang_thres)"
   ]
  },
  {
   "cell_type": "code",
   "execution_count": 118,
   "id": "choice-picture",
   "metadata": {},
   "outputs": [],
   "source": [
    "# A simpler way to format yticks\n",
    "# fig, ax = plt.subplots(figsize=(12, 8))\n",
    "# f = mticker.ScalarFormatter(useOffset=False, useMathText=True)\n",
    "# g = lambda x, pos : \"${}$\".format(f._formatSciNotation('%1.10e' % x))\n",
    "# plt.gca().yaxis.set_major_formatter(mticker.FuncFormatter(g))\n",
    "# top_languages.plot.bar()"
   ]
  },
  {
   "cell_type": "code",
   "execution_count": 119,
   "id": "senior-flush",
   "metadata": {},
   "outputs": [
    {
     "data": {
      "image/png": "[encoded data removed]",
      "text/plain": [
       "<Figure size 864x576 with 1 Axes>"
      ]
     },
     "metadata": {
      "needs_background": "light"
     },
     "output_type": "display_data"
    }
   ],
   "source": [
    "fig, ax = plt.subplots(figsize=(12, 8))\n",
    "# Customize Yticks\n",
    "class MathTextSciFormatter(mticker.Formatter):\n",
    "    def __init__(self, fmt=\"%1.2e\"):\n",
    "        self.fmt = fmt\n",
    "    def __call__(self, x, pos=None):\n",
    "        s = self.fmt % x\n",
    "        decimal_point = '.'\n",
    "        positive_sign = '+'\n",
    "        tup = s.split('e')\n",
    "        significand = tup[0].rstrip(decimal_point)\n",
    "        sign = tup[1][0].replace(positive_sign, '')\n",
    "        exponent = tup[1][1:].lstrip('0')\n",
    "        if exponent:\n",
    "            exponent = '10^{%s%s}' % (sign, exponent)\n",
    "        if significand and exponent:\n",
    "            s =  r'%s{\\times}%s' % (significand, exponent)\n",
    "        else:\n",
    "            s =  r'%s%s' % (significand, exponent)\n",
    "        return \"${}$\".format(s)\n",
    "\n",
    "# Format with 2 decimal places\n",
    "plt.gca().yaxis.set_major_formatter(MathTextSciFormatter(\"%1.2e\"))\n",
    "# Plot Top Languages\n",
    "plt.title(\"Number of Samples for Top Languages\", size=20)\n",
    "plt.xticks(size=20)\n",
    "plt.yticks(size=15)\n",
    "top_languages.plot.bar();"
   ]
  },
  {
   "cell_type": "code",
   "execution_count": 134,
   "id": "supreme-philippines",
   "metadata": {},
   "outputs": [
    {
     "name": "stdout",
     "output_type": "stream",
     "text": [
      "null rate = 5.482309 %\n"
     ]
    },
    {
     "data": {
      "text/plain": [
       "Timeline Photos                                                             1398811\n",
       "NaN                                                                          808528\n",
       "Mobile Uploads                                                                23079\n",
       "Nation In Distress                                                            10221\n",
       "Occupy Democrats                                                               8409\n",
       "                                                                             ...   \n",
       "The Free Thought Project.com                                                   1530\n",
       "GOPocalypse                                                                    1527\n",
       "Fox Business                                                                   1505\n",
       "Conservatives Are Destroying Our Future                                        1501\n",
       "Here’s the Video That Will Finally DERAIL Hillary! Must See Documentary!       1475\n",
       "Name: post_name, Length: 73, dtype: int64"
      ]
     },
     "execution_count": 134,
     "metadata": {},
     "output_type": "execute_result"
    }
   ],
   "source": [
    "# filter for languages that's at least 0.01%\n",
    "filter_top_unique_elements(top_1000_pages['post_name'], thres=0.0001)"
   ]
  },
  {
   "cell_type": "code",
   "execution_count": 133,
   "id": "major-present",
   "metadata": {},
   "outputs": [
    {
     "data": {
      "text/plain": [
       "en     86.418610%\n",
       "NaN     9.563983%\n",
       "es      2.622019%\n",
       "ja      0.347974%\n",
       "ru      0.133219%\n",
       "          ...    \n",
       "cv      0.000007%\n",
       "ce      0.000007%\n",
       "scn     0.000007%\n",
       "sd      0.000007%\n",
       "frr     0.000007%\n",
       "Name: language, Length: 148, dtype: object"
      ]
     },
     "execution_count": 133,
     "metadata": {},
     "output_type": "execute_result"
    }
   ],
   "source": [
    "top_1000_pages['language'].value_counts(normalize=True, dropna=False).apply(lambda x: f\"{x * 100:.6f}%\")"
   ]
  },
  {
   "cell_type": "code",
   "execution_count": 144,
   "id": "greenhouse-diana",
   "metadata": {},
   "outputs": [
    {
     "data": {
      "text/plain": [
       "link         11235316\n",
       "photo         2099309\n",
       "video         1225049\n",
       "status         182016\n",
       "event            5692\n",
       "note              420\n",
       "music             102\n",
       "offer              41\n",
       "post_type           1\n",
       "Name: post_type, dtype: int64"
      ]
     },
     "execution_count": 144,
     "metadata": {},
     "output_type": "execute_result"
    }
   ],
   "source": [
    "top_1000_pages['post_type'].value_counts(dropna=False)"
   ]
  },
  {
   "cell_type": "code",
   "execution_count": 145,
   "id": "great-making",
   "metadata": {},
   "outputs": [
    {
     "data": {
      "text/html": [
       "<div>\n",
       "<style scoped>\n",
       "    .dataframe tbody tr th:only-of-type {\n",
       "        vertical-align: middle;\n",
       "    }\n",
       "\n",
       "    .dataframe tbody tr th {\n",
       "        vertical-align: top;\n",
       "    }\n",
       "\n",
       "    .dataframe thead th {\n",
       "        text-align: right;\n",
       "    }\n",
       "</style>\n",
       "<table border=\"1\" class=\"dataframe\">\n",
       "  <thead>\n",
       "    <tr style=\"text-align: right;\">\n",
       "      <th></th>\n",
       "      <th>page_id</th>\n",
       "      <th>page_name</th>\n",
       "      <th>post_id</th>\n",
       "      <th>post_type</th>\n",
       "      <th>post_name</th>\n",
       "      <th>post_message</th>\n",
       "      <th>post_caption</th>\n",
       "      <th>post_picture</th>\n",
       "      <th>post_link</th>\n",
       "      <th>post_description</th>\n",
       "      <th>post_reactions</th>\n",
       "      <th>post_likes</th>\n",
       "      <th>post_comments</th>\n",
       "      <th>post_shares</th>\n",
       "      <th>post_created_time_CT</th>\n",
       "      <th>post_updated_time_CT</th>\n",
       "      <th>post_created_date_CT</th>\n",
       "      <th>post_updated_date_CT</th>\n",
       "      <th>post_created_time</th>\n",
       "      <th>post_updated_time</th>\n",
       "      <th>page_talking_about_count</th>\n",
       "      <th>language</th>\n",
       "    </tr>\n",
       "  </thead>\n",
       "  <tbody>\n",
       "    <tr>\n",
       "      <th>0</th>\n",
       "      <td>5.444446e+10</td>\n",
       "      <td>WTHR-TV</td>\n",
       "      <td>54444461143_10153245342666144</td>\n",
       "      <td>photo</td>\n",
       "      <td>NaN</td>\n",
       "      <td>WTHR is wishing a very happy birthday to John ...</td>\n",
       "      <td>NaN</td>\n",
       "      <td>https://scontent.xx.fbcdn.net/hphotos-xpf1/v/t...</td>\n",
       "      <td>https://www.facebook.com/WTHR13/photos/a.12486...</td>\n",
       "      <td>NaN</td>\n",
       "      <td>NaN</td>\n",
       "      <td>3920739.0</td>\n",
       "      <td>97206.0</td>\n",
       "      <td>1521964.0</td>\n",
       "      <td>2015-07-25T20:35:12Z</td>\n",
       "      <td>2015-07-27T17:40:46Z</td>\n",
       "      <td>2015-07-25</td>\n",
       "      <td>2015-07-27</td>\n",
       "      <td>2015-07-26T01:35:12Z</td>\n",
       "      <td>2015-07-27T22:40:46Z</td>\n",
       "      <td>165048.0</td>\n",
       "      <td>en</td>\n",
       "    </tr>\n",
       "    <tr>\n",
       "      <th>1</th>\n",
       "      <td>2.637436e+11</td>\n",
       "      <td>9NEWS (KUSA)</td>\n",
       "      <td>263743636076_10152822691401077</td>\n",
       "      <td>video</td>\n",
       "      <td>NaN</td>\n",
       "      <td>Thank you. Welcome home.</td>\n",
       "      <td>NaN</td>\n",
       "      <td>https://scontent.xx.fbcdn.net/v/t15.0-10/s130x...</td>\n",
       "      <td>https://www.facebook.com/ilike9news/videos/101...</td>\n",
       "      <td>NaN</td>\n",
       "      <td>1772977.0</td>\n",
       "      <td>1761230.0</td>\n",
       "      <td>76471.0</td>\n",
       "      <td>2312763.0</td>\n",
       "      <td>2014-12-31T19:49:38Z</td>\n",
       "      <td>2017-05-21T10:31:11Z</td>\n",
       "      <td>2014-12-31</td>\n",
       "      <td>2017-05-21</td>\n",
       "      <td>2015-01-01T01:49:38Z</td>\n",
       "      <td>2017-05-21T15:31:11Z</td>\n",
       "      <td>128078.0</td>\n",
       "      <td>en</td>\n",
       "    </tr>\n",
       "    <tr>\n",
       "      <th>2</th>\n",
       "      <td>1.143646e+14</td>\n",
       "      <td>ForAmerica</td>\n",
       "      <td>114364638621903_890023284389364</td>\n",
       "      <td>photo</td>\n",
       "      <td>Timeline Photos</td>\n",
       "      <td>Christian country singer Carrie Underwood is u...</td>\n",
       "      <td>NaN</td>\n",
       "      <td>https://scontent.xx.fbcdn.net/v/t1.0-0/s130x13...</td>\n",
       "      <td>https://www.facebook.com/ForAmerica/photos/a.1...</td>\n",
       "      <td>NaN</td>\n",
       "      <td>1639933.0</td>\n",
       "      <td>1639908.0</td>\n",
       "      <td>41595.0</td>\n",
       "      <td>146719.0</td>\n",
       "      <td>2015-01-11T18:00:00Z</td>\n",
       "      <td>2017-05-16T07:19:49Z</td>\n",
       "      <td>2015-01-11</td>\n",
       "      <td>2017-05-16</td>\n",
       "      <td>2015-01-12T00:00:00Z</td>\n",
       "      <td>2017-05-16T12:19:49Z</td>\n",
       "      <td>225676.0</td>\n",
       "      <td>en</td>\n",
       "    </tr>\n",
       "    <tr>\n",
       "      <th>3</th>\n",
       "      <td>2.178595e+10</td>\n",
       "      <td>9GAG</td>\n",
       "      <td>21785951839_10154491127201840</td>\n",
       "      <td>photo</td>\n",
       "      <td>Timeline Photos</td>\n",
       "      <td>This is why his speech was soooo fluent! Congr...</td>\n",
       "      <td>NaN</td>\n",
       "      <td>https://scontent.xx.fbcdn.net/hphotos-xlf1/v/t...</td>\n",
       "      <td>https://www.facebook.com/9gag/photos/a.1090410...</td>\n",
       "      <td>NaN</td>\n",
       "      <td>NaN</td>\n",
       "      <td>1626598.0</td>\n",
       "      <td>16615.0</td>\n",
       "      <td>161393.0</td>\n",
       "      <td>2016-02-28T23:16:57Z</td>\n",
       "      <td>2016-02-28T23:16:57Z</td>\n",
       "      <td>2016-02-28</td>\n",
       "      <td>2016-02-28</td>\n",
       "      <td>2016-02-29T05:16:57Z</td>\n",
       "      <td>2016-02-29T05:16:57Z</td>\n",
       "      <td>3842818.0</td>\n",
       "      <td>en</td>\n",
       "    </tr>\n",
       "    <tr>\n",
       "      <th>4</th>\n",
       "      <td>3.896583e+14</td>\n",
       "      <td>Right Wing News</td>\n",
       "      <td>389658314427637_956582867735176</td>\n",
       "      <td>photo</td>\n",
       "      <td>Timeline Photos</td>\n",
       "      <td>NaN</td>\n",
       "      <td>NaN</td>\n",
       "      <td>https://scontent.xx.fbcdn.net/v/t1.0-0/p130x13...</td>\n",
       "      <td>https://www.facebook.com/OfficialRightWingNews...</td>\n",
       "      <td>NaN</td>\n",
       "      <td>1574853.0</td>\n",
       "      <td>1574853.0</td>\n",
       "      <td>14681.0</td>\n",
       "      <td>154392.0</td>\n",
       "      <td>2015-01-18T23:00:01Z</td>\n",
       "      <td>2017-01-22T06:50:03Z</td>\n",
       "      <td>2015-01-18</td>\n",
       "      <td>2017-01-22</td>\n",
       "      <td>2015-01-19T05:00:01Z</td>\n",
       "      <td>2017-01-22T12:50:03Z</td>\n",
       "      <td>402776.0</td>\n",
       "      <td>NaN</td>\n",
       "    </tr>\n",
       "  </tbody>\n",
       "</table>\n",
       "</div>"
      ],
      "text/plain": [
       "        page_id        page_name                          post_id post_type  \\\n",
       "0  5.444446e+10          WTHR-TV    54444461143_10153245342666144     photo   \n",
       "1  2.637436e+11     9NEWS (KUSA)   263743636076_10152822691401077     video   \n",
       "2  1.143646e+14       ForAmerica  114364638621903_890023284389364     photo   \n",
       "3  2.178595e+10             9GAG    21785951839_10154491127201840     photo   \n",
       "4  3.896583e+14  Right Wing News  389658314427637_956582867735176     photo   \n",
       "\n",
       "         post_name                                       post_message  \\\n",
       "0              NaN  WTHR is wishing a very happy birthday to John ...   \n",
       "1              NaN                           Thank you. Welcome home.   \n",
       "2  Timeline Photos  Christian country singer Carrie Underwood is u...   \n",
       "3  Timeline Photos  This is why his speech was soooo fluent! Congr...   \n",
       "4  Timeline Photos                                                NaN   \n",
       "\n",
       "  post_caption                                       post_picture  \\\n",
       "0          NaN  https://scontent.xx.fbcdn.net/hphotos-xpf1/v/t...   \n",
       "1          NaN  https://scontent.xx.fbcdn.net/v/t15.0-10/s130x...   \n",
       "2          NaN  https://scontent.xx.fbcdn.net/v/t1.0-0/s130x13...   \n",
       "3          NaN  https://scontent.xx.fbcdn.net/hphotos-xlf1/v/t...   \n",
       "4          NaN  https://scontent.xx.fbcdn.net/v/t1.0-0/p130x13...   \n",
       "\n",
       "                                           post_link post_description  \\\n",
       "0  https://www.facebook.com/WTHR13/photos/a.12486...              NaN   \n",
       "1  https://www.facebook.com/ilike9news/videos/101...              NaN   \n",
       "2  https://www.facebook.com/ForAmerica/photos/a.1...              NaN   \n",
       "3  https://www.facebook.com/9gag/photos/a.1090410...              NaN   \n",
       "4  https://www.facebook.com/OfficialRightWingNews...              NaN   \n",
       "\n",
       "   post_reactions  post_likes  post_comments  post_shares  \\\n",
       "0             NaN   3920739.0        97206.0    1521964.0   \n",
       "1       1772977.0   1761230.0        76471.0    2312763.0   \n",
       "2       1639933.0   1639908.0        41595.0     146719.0   \n",
       "3             NaN   1626598.0        16615.0     161393.0   \n",
       "4       1574853.0   1574853.0        14681.0     154392.0   \n",
       "\n",
       "   post_created_time_CT  post_updated_time_CT post_created_date_CT  \\\n",
       "0  2015-07-25T20:35:12Z  2015-07-27T17:40:46Z           2015-07-25   \n",
       "1  2014-12-31T19:49:38Z  2017-05-21T10:31:11Z           2014-12-31   \n",
       "2  2015-01-11T18:00:00Z  2017-05-16T07:19:49Z           2015-01-11   \n",
       "3  2016-02-28T23:16:57Z  2016-02-28T23:16:57Z           2016-02-28   \n",
       "4  2015-01-18T23:00:01Z  2017-01-22T06:50:03Z           2015-01-18   \n",
       "\n",
       "  post_updated_date_CT     post_created_time     post_updated_time  \\\n",
       "0           2015-07-27  2015-07-26T01:35:12Z  2015-07-27T22:40:46Z   \n",
       "1           2017-05-21  2015-01-01T01:49:38Z  2017-05-21T15:31:11Z   \n",
       "2           2017-05-16  2015-01-12T00:00:00Z  2017-05-16T12:19:49Z   \n",
       "3           2016-02-28  2016-02-29T05:16:57Z  2016-02-29T05:16:57Z   \n",
       "4           2017-01-22  2015-01-19T05:00:01Z  2017-01-22T12:50:03Z   \n",
       "\n",
       "   page_talking_about_count language  \n",
       "0                  165048.0       en  \n",
       "1                  128078.0       en  \n",
       "2                  225676.0       en  \n",
       "3                 3842818.0       en  \n",
       "4                  402776.0      NaN  "
      ]
     },
     "execution_count": 145,
     "metadata": {},
     "output_type": "execute_result"
    }
   ],
   "source": [
    "top_1000_pages.head()"
   ]
  },
  {
   "cell_type": "code",
   "execution_count": 148,
   "id": "harmful-engineer",
   "metadata": {},
   "outputs": [
    {
     "name": "stdout",
     "output_type": "stream",
     "text": [
      "null rate = 23.338280 %\n"
     ]
    },
    {
     "data": {
      "text/plain": [
       "NaN                                                      3441917\n",
       "madpatriots.com                                           142379\n",
       "freepatriotpost.com                                       127521\n",
       "libertyfirstnews.com                                      123112\n",
       "conservativetribune.com                                   113824\n",
       "                                                          ...   \n",
       "http://bit.ly/23sFplH                                          1\n",
       "http://pos.li/33js                                             1\n",
       "nationaldogday.com                                             1\n",
       "http://fal.cn/BOMm                                             1\n",
       "http://pittsburgh.cbslocal.com/2016/10/06/furry-ta...          1\n",
       "Name: post_caption, Length: 143065, dtype: int64"
      ]
     },
     "execution_count": 148,
     "metadata": {},
     "output_type": "execute_result"
    }
   ],
   "source": [
    "filter_top_unique_elements(top_1000_pages['post_caption'], thres=0)\n",
    "# It seems that captions are usually webpages or links"
   ]
  },
  {
   "cell_type": "code",
   "execution_count": 154,
   "id": "final-preservation",
   "metadata": {},
   "outputs": [
    {
     "name": "stdout",
     "output_type": "stream",
     "text": [
      "null rate = 33.208462 %\n"
     ]
    },
    {
     "data": {
      "text/plain": [
       "NaN                                                                                                                                                             4897566\n",
       "Posted By: Patriot Post Staff                                                                                                                                     39651\n",
       "\\n                                                                                                                                                                21188\n",
       "Redstate News                                                                                                                                                     17450\n",
       "CLICK the image to read the story!                                                                                                                                13811\n",
       "Click to see the pic and write a comment...                                                                                                                        4972\n",
       "                                                                                                                                                                   4528\n",
       "Your place for capitalism memes, articles on money, finance, news, and success, and the best way to waste your time when you're not doing business as usual.       4435\n",
       "Get the whole picture - and other photos from Alex Jones                                                                                                           3728\n",
       "Name: post_description, dtype: int64"
      ]
     },
     "execution_count": 154,
     "metadata": {},
     "output_type": "execute_result"
    }
   ],
   "source": [
    "filter_top_unique_elements(top_1000_pages['post_description'], thres=0.0002)"
   ]
  },
  {
   "cell_type": "code",
   "execution_count": 156,
   "id": "sunset-clearance",
   "metadata": {},
   "outputs": [
    {
     "data": {
      "text/html": [
       "<div>\n",
       "<style scoped>\n",
       "    .dataframe tbody tr th:only-of-type {\n",
       "        vertical-align: middle;\n",
       "    }\n",
       "\n",
       "    .dataframe tbody tr th {\n",
       "        vertical-align: top;\n",
       "    }\n",
       "\n",
       "    .dataframe thead th {\n",
       "        text-align: right;\n",
       "    }\n",
       "</style>\n",
       "<table border=\"1\" class=\"dataframe\">\n",
       "  <thead>\n",
       "    <tr style=\"text-align: right;\">\n",
       "      <th></th>\n",
       "      <th>page_id</th>\n",
       "      <th>page_name</th>\n",
       "      <th>post_id</th>\n",
       "      <th>post_type</th>\n",
       "      <th>post_name</th>\n",
       "      <th>post_message</th>\n",
       "      <th>post_caption</th>\n",
       "      <th>post_description</th>\n",
       "      <th>post_reactions</th>\n",
       "      <th>post_likes</th>\n",
       "      <th>post_comments</th>\n",
       "      <th>post_shares</th>\n",
       "      <th>post_created_time_CT</th>\n",
       "      <th>post_updated_time_CT</th>\n",
       "      <th>post_created_date_CT</th>\n",
       "      <th>post_updated_date_CT</th>\n",
       "      <th>post_created_time</th>\n",
       "      <th>post_updated_time</th>\n",
       "      <th>page_talking_about_count</th>\n",
       "      <th>language</th>\n",
       "    </tr>\n",
       "  </thead>\n",
       "  <tbody>\n",
       "    <tr>\n",
       "      <th>0</th>\n",
       "      <td>5.444446e+10</td>\n",
       "      <td>WTHR-TV</td>\n",
       "      <td>54444461143_10153245342666144</td>\n",
       "      <td>photo</td>\n",
       "      <td>NaN</td>\n",
       "      <td>WTHR is wishing a very happy birthday to John ...</td>\n",
       "      <td>NaN</td>\n",
       "      <td>NaN</td>\n",
       "      <td>NaN</td>\n",
       "      <td>3920739.0</td>\n",
       "      <td>97206.0</td>\n",
       "      <td>1521964.0</td>\n",
       "      <td>2015-07-25T20:35:12Z</td>\n",
       "      <td>2015-07-27T17:40:46Z</td>\n",
       "      <td>2015-07-25</td>\n",
       "      <td>2015-07-27</td>\n",
       "      <td>2015-07-26T01:35:12Z</td>\n",
       "      <td>2015-07-27T22:40:46Z</td>\n",
       "      <td>165048.0</td>\n",
       "      <td>en</td>\n",
       "    </tr>\n",
       "    <tr>\n",
       "      <th>1</th>\n",
       "      <td>2.637436e+11</td>\n",
       "      <td>9NEWS (KUSA)</td>\n",
       "      <td>263743636076_10152822691401077</td>\n",
       "      <td>video</td>\n",
       "      <td>NaN</td>\n",
       "      <td>Thank you. Welcome home.</td>\n",
       "      <td>NaN</td>\n",
       "      <td>NaN</td>\n",
       "      <td>1772977.0</td>\n",
       "      <td>1761230.0</td>\n",
       "      <td>76471.0</td>\n",
       "      <td>2312763.0</td>\n",
       "      <td>2014-12-31T19:49:38Z</td>\n",
       "      <td>2017-05-21T10:31:11Z</td>\n",
       "      <td>2014-12-31</td>\n",
       "      <td>2017-05-21</td>\n",
       "      <td>2015-01-01T01:49:38Z</td>\n",
       "      <td>2017-05-21T15:31:11Z</td>\n",
       "      <td>128078.0</td>\n",
       "      <td>en</td>\n",
       "    </tr>\n",
       "    <tr>\n",
       "      <th>2</th>\n",
       "      <td>1.143646e+14</td>\n",
       "      <td>ForAmerica</td>\n",
       "      <td>114364638621903_890023284389364</td>\n",
       "      <td>photo</td>\n",
       "      <td>Timeline Photos</td>\n",
       "      <td>Christian country singer Carrie Underwood is u...</td>\n",
       "      <td>NaN</td>\n",
       "      <td>NaN</td>\n",
       "      <td>1639933.0</td>\n",
       "      <td>1639908.0</td>\n",
       "      <td>41595.0</td>\n",
       "      <td>146719.0</td>\n",
       "      <td>2015-01-11T18:00:00Z</td>\n",
       "      <td>2017-05-16T07:19:49Z</td>\n",
       "      <td>2015-01-11</td>\n",
       "      <td>2017-05-16</td>\n",
       "      <td>2015-01-12T00:00:00Z</td>\n",
       "      <td>2017-05-16T12:19:49Z</td>\n",
       "      <td>225676.0</td>\n",
       "      <td>en</td>\n",
       "    </tr>\n",
       "    <tr>\n",
       "      <th>3</th>\n",
       "      <td>2.178595e+10</td>\n",
       "      <td>9GAG</td>\n",
       "      <td>21785951839_10154491127201840</td>\n",
       "      <td>photo</td>\n",
       "      <td>Timeline Photos</td>\n",
       "      <td>This is why his speech was soooo fluent! Congr...</td>\n",
       "      <td>NaN</td>\n",
       "      <td>NaN</td>\n",
       "      <td>NaN</td>\n",
       "      <td>1626598.0</td>\n",
       "      <td>16615.0</td>\n",
       "      <td>161393.0</td>\n",
       "      <td>2016-02-28T23:16:57Z</td>\n",
       "      <td>2016-02-28T23:16:57Z</td>\n",
       "      <td>2016-02-28</td>\n",
       "      <td>2016-02-28</td>\n",
       "      <td>2016-02-29T05:16:57Z</td>\n",
       "      <td>2016-02-29T05:16:57Z</td>\n",
       "      <td>3842818.0</td>\n",
       "      <td>en</td>\n",
       "    </tr>\n",
       "    <tr>\n",
       "      <th>4</th>\n",
       "      <td>3.896583e+14</td>\n",
       "      <td>Right Wing News</td>\n",
       "      <td>389658314427637_956582867735176</td>\n",
       "      <td>photo</td>\n",
       "      <td>Timeline Photos</td>\n",
       "      <td>NaN</td>\n",
       "      <td>NaN</td>\n",
       "      <td>NaN</td>\n",
       "      <td>1574853.0</td>\n",
       "      <td>1574853.0</td>\n",
       "      <td>14681.0</td>\n",
       "      <td>154392.0</td>\n",
       "      <td>2015-01-18T23:00:01Z</td>\n",
       "      <td>2017-01-22T06:50:03Z</td>\n",
       "      <td>2015-01-18</td>\n",
       "      <td>2017-01-22</td>\n",
       "      <td>2015-01-19T05:00:01Z</td>\n",
       "      <td>2017-01-22T12:50:03Z</td>\n",
       "      <td>402776.0</td>\n",
       "      <td>NaN</td>\n",
       "    </tr>\n",
       "  </tbody>\n",
       "</table>\n",
       "</div>"
      ],
      "text/plain": [
       "        page_id        page_name                          post_id post_type  \\\n",
       "0  5.444446e+10          WTHR-TV    54444461143_10153245342666144     photo   \n",
       "1  2.637436e+11     9NEWS (KUSA)   263743636076_10152822691401077     video   \n",
       "2  1.143646e+14       ForAmerica  114364638621903_890023284389364     photo   \n",
       "3  2.178595e+10             9GAG    21785951839_10154491127201840     photo   \n",
       "4  3.896583e+14  Right Wing News  389658314427637_956582867735176     photo   \n",
       "\n",
       "         post_name                                       post_message  \\\n",
       "0              NaN  WTHR is wishing a very happy birthday to John ...   \n",
       "1              NaN                           Thank you. Welcome home.   \n",
       "2  Timeline Photos  Christian country singer Carrie Underwood is u...   \n",
       "3  Timeline Photos  This is why his speech was soooo fluent! Congr...   \n",
       "4  Timeline Photos                                                NaN   \n",
       "\n",
       "  post_caption post_description  post_reactions  post_likes  post_comments  \\\n",
       "0          NaN              NaN             NaN   3920739.0        97206.0   \n",
       "1          NaN              NaN       1772977.0   1761230.0        76471.0   \n",
       "2          NaN              NaN       1639933.0   1639908.0        41595.0   \n",
       "3          NaN              NaN             NaN   1626598.0        16615.0   \n",
       "4          NaN              NaN       1574853.0   1574853.0        14681.0   \n",
       "\n",
       "   post_shares  post_created_time_CT  post_updated_time_CT  \\\n",
       "0    1521964.0  2015-07-25T20:35:12Z  2015-07-27T17:40:46Z   \n",
       "1    2312763.0  2014-12-31T19:49:38Z  2017-05-21T10:31:11Z   \n",
       "2     146719.0  2015-01-11T18:00:00Z  2017-05-16T07:19:49Z   \n",
       "3     161393.0  2016-02-28T23:16:57Z  2016-02-28T23:16:57Z   \n",
       "4     154392.0  2015-01-18T23:00:01Z  2017-01-22T06:50:03Z   \n",
       "\n",
       "  post_created_date_CT post_updated_date_CT     post_created_time  \\\n",
       "0           2015-07-25           2015-07-27  2015-07-26T01:35:12Z   \n",
       "1           2014-12-31           2017-05-21  2015-01-01T01:49:38Z   \n",
       "2           2015-01-11           2017-05-16  2015-01-12T00:00:00Z   \n",
       "3           2016-02-28           2016-02-28  2016-02-29T05:16:57Z   \n",
       "4           2015-01-18           2017-01-22  2015-01-19T05:00:01Z   \n",
       "\n",
       "      post_updated_time  page_talking_about_count language  \n",
       "0  2015-07-27T22:40:46Z                  165048.0       en  \n",
       "1  2017-05-21T15:31:11Z                  128078.0       en  \n",
       "2  2017-05-16T12:19:49Z                  225676.0       en  \n",
       "3  2016-02-29T05:16:57Z                 3842818.0       en  \n",
       "4  2017-01-22T12:50:03Z                  402776.0      NaN  "
      ]
     },
     "execution_count": 156,
     "metadata": {},
     "output_type": "execute_result"
    }
   ],
   "source": [
    "cols_to_drop = ['post_picture', 'post_link']\n",
    "top_1000_pages.drop(columns=cols_to_drop).head()"
   ]
  },
  {
   "cell_type": "code",
   "execution_count": null,
   "id": "compliant-showcase",
   "metadata": {},
   "outputs": [],
   "source": []
  }
 ],
 "metadata": {
  "kernelspec": {
   "display_name": "Python 3",
   "language": "python",
   "name": "python3"
  },
  "language_info": {
   "codemirror_mode": {
    "name": "ipython",
    "version": 3
   },
   "file_extension": ".py",
   "mimetype": "text/x-python",
   "name": "python",
   "nbconvert_exporter": "python",
   "pygments_lexer": "ipython3",
   "version": "3.7.10"
  }
 },
 "nbformat": 4,
 "nbformat_minor": 5
}
