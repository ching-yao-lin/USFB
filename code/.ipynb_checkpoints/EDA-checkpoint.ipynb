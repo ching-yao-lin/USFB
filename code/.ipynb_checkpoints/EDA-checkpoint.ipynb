{
 "cells": [
  {
   "cell_type": "markdown",
   "id": "worse-means",
   "metadata": {},
   "source": [
    "# EDA"
   ]
  },
  {
   "cell_type": "code",
   "execution_count": 1,
   "id": "different-channel",
   "metadata": {},
   "outputs": [],
   "source": [
    "import numpy as np\n",
    "import pandas as pd\n",
    "import matplotlib.pyplot as plt\n",
    "import seaborn as sns\n",
    "%matplotlib inline"
   ]
  },
  {
   "cell_type": "code",
   "execution_count": 2,
   "id": "standing-olive",
   "metadata": {},
   "outputs": [
    {
     "name": "stdout",
     "output_type": "stream",
     "text": [
      "/home3/r09725056/Desktop/analysis-ChingYaoL\n"
     ]
    }
   ],
   "source": [
    "import os\n",
    "os.chdir('/home3/r09725056/Desktop/analysis-ChingYaoL')\n",
    "print(os.getcwd())\n",
    "# Use relative paths in the code"
   ]
  },
  {
   "cell_type": "code",
   "execution_count": 3,
   "id": "brave-pavilion",
   "metadata": {},
   "outputs": [
    {
     "name": "stdout",
     "output_type": "stream",
     "text": [
      "input code output temp "
     ]
    }
   ],
   "source": [
    "for file in os.listdir():\n",
    "    print(file, end=' ')"
   ]
  },
  {
   "cell_type": "markdown",
   "id": "capital-thomas",
   "metadata": {},
   "source": [
    "#### Suggested workflow from README\n",
    "* Use relative paths in the code\n",
    "* Read data from _input_\n",
    "* Export generated tables or figures to _output_\n",
    "* Read/Write other temporary files from _temp_"
   ]
  },
  {
   "cell_type": "code",
   "execution_count": 4,
   "id": "instant-policy",
   "metadata": {},
   "outputs": [],
   "source": [
    "from IPython.core.interactiveshell import InteractiveShell\n",
    "InteractiveShell.ast_node_interactivity = \"all\" # 讓 DataFrame Output可以重複疊起來\n",
    "pd.set_option('display.max_columns', None) # show all columns"
   ]
  },
  {
   "cell_type": "code",
   "execution_count": 5,
   "id": "about-revision",
   "metadata": {},
   "outputs": [],
   "source": [
    "import datetime\n",
    "# from pandas_profiling import ProfileReport"
   ]
  },
  {
   "cell_type": "code",
   "execution_count": 6,
   "id": "automatic-cruise",
   "metadata": {},
   "outputs": [],
   "source": [
    "import contractions \n",
    "import nltk\n",
    "import string\n",
    "import fasttext\n",
    "import contractions # resolving contractions and slangs, e.g. \"yall're happy now\" --> \"you all are happy now\"\n",
    "from nltk.tokenize import word_tokenize\n",
    "from nltk.corpus import stopwords, wordnet\n",
    "from nltk.stem import WordNetLemmatizer"
   ]
  },
  {
   "cell_type": "markdown",
   "id": "willing-atlanta",
   "metadata": {},
   "source": [
    "* [PyPI for fasttext](https://pypi.org/project/fasttext/)\n",
    "* [medium for fasttext](https://medium.com/@c.chaitanya/language-identification-in-python-using-fasttext-60359dc30ed0)\n",
    "* [GitHub for contractions](https://github.com/kootenpv/contractions)"
   ]
  },
  {
   "cell_type": "code",
   "execution_count": 7,
   "id": "literary-dominican",
   "metadata": {},
   "outputs": [],
   "source": [
    "# Info\n",
    "# page_info = pd.read_csv(r'input/page/1000-page-info.csv')\n",
    "# politician_info = pd.read_csv(r'input/page/politician-info.csv')\n",
    "page_politician_info = pd.read_csv(r'input/page/1000-page-and-politician-info.csv')\n",
    "\n",
    "# Post\n",
    "top_1000_pages = pd.read_csv(r'input/post/1000-page/2015-01-01-to-2017-04-08.csv')\n",
    "politician_pages = pd.read_csv(r'input/post/politician/2015-01-01-to-2016-11-30.csv')\n",
    "\n",
    "# Reaction\n"
   ]
  },
  {
   "cell_type": "code",
   "execution_count": 8,
   "id": "entertaining-microwave",
   "metadata": {},
   "outputs": [
    {
     "data": {
      "text/plain": [
       "(2466, 12)"
      ]
     },
     "execution_count": 8,
     "metadata": {},
     "output_type": "execute_result"
    },
    {
     "data": {
      "text/plain": [
       "(14747946, 21)"
      ]
     },
     "execution_count": 8,
     "metadata": {},
     "output_type": "execute_result"
    },
    {
     "data": {
      "text/plain": [
       "(592891, 21)"
      ]
     },
     "execution_count": 8,
     "metadata": {},
     "output_type": "execute_result"
    }
   ],
   "source": [
    "page_politician_info.shape\n",
    "top_1000_pages.shape\n",
    "politician_pages.shape"
   ]
  },
  {
   "cell_type": "code",
   "execution_count": 9,
   "id": "maritime-bacon",
   "metadata": {},
   "outputs": [
    {
     "name": "stdout",
     "output_type": "stream",
     "text": [
      "Index(['page_id', 'page_name', 'type', 'type_sub', 'page_url',\n",
      "       'politician_name', 'party', 'chamber', 'state', 'district_rep',\n",
      "       'main_page', 'post_count'],\n",
      "      dtype='object')\n",
      "12\n",
      "Index(['page_id', 'page_name', 'post_id', 'post_type', 'post_name',\n",
      "       'post_message', 'post_caption', 'post_picture', 'post_link',\n",
      "       'post_description', 'post_reactions', 'post_likes', 'post_comments',\n",
      "       'post_shares', 'post_created_time_CT', 'post_updated_time_CT',\n",
      "       'post_created_date_CT', 'post_updated_date_CT', 'post_created_time',\n",
      "       'post_updated_time', 'page_talking_about_count'],\n",
      "      dtype='object')\n",
      "21\n",
      "Index(['page_id', 'page_name', 'post_id', 'post_type', 'post_name',\n",
      "       'post_message', 'post_caption', 'post_picture', 'post_link',\n",
      "       'post_description', 'post_reactions', 'post_likes', 'post_comments',\n",
      "       'post_shares', 'post_created_time_CT', 'post_updated_time_CT',\n",
      "       'post_created_date_CT', 'post_updated_date_CT', 'post_created_time',\n",
      "       'post_updated_time', 'page_talking_about_count'],\n",
      "      dtype='object')\n",
      "21\n"
     ]
    }
   ],
   "source": [
    "print(page_politician_info.columns)\n",
    "print(len(page_politician_info.columns))\n",
    "print(top_1000_pages.columns)\n",
    "print(len(top_1000_pages.columns))\n",
    "print(politician_pages.columns)\n",
    "print(len(politician_pages.columns))"
   ]
  },
  {
   "cell_type": "code",
   "execution_count": 33,
   "id": "answering-scholarship",
   "metadata": {},
   "outputs": [],
   "source": [
    "# def contract_message(x):\n",
    "#     try:\n",
    "#         return contractions.fix(x)\n",
    "#     except IndexError:\n",
    "#         return x\n",
    "#     except AttributeError:\n",
    "#         return x\n",
    "    \n",
    "def func_to_nonstring(func):\n",
    "    \"\"\"\n",
    "    A decorator that allows a function to bypass nonstring arguments. That is, func applies only to nonstrings.\n",
    "    \"\"\"\n",
    "    def wrapper_func(x):\n",
    "        try:\n",
    "            return func(x)\n",
    "        except IndexError:\n",
    "            return x\n",
    "        except AttributeError:\n",
    "            return x\n",
    "    return wrapper_func\n",
    "\n",
    "@func_to_nonstring\n",
    "def contract_message(x):\n",
    "    return contractions.fix(x)"
   ]
  },
  {
   "cell_type": "code",
   "execution_count": 34,
   "id": "subtle-greek",
   "metadata": {},
   "outputs": [],
   "source": [
    "top_1000_pages['post_message'] = top_1000_pages['post_message'].apply(contract_message)"
   ]
  },
  {
   "cell_type": "code",
   "execution_count": 35,
   "id": "concrete-handy",
   "metadata": {},
   "outputs": [
    {
     "name": "stdout",
     "output_type": "stream",
     "text": [
      "One of the masterminds of the Paris bombings was captured today following a FOUR-month manhunt. After the attack, he was stopped at a checkpoint, but was allowed to continue. Police claimed they would been distracted by the smell of marijuana. No, Europe is definitely NOT Israel...\n",
      "\"This is bigger than a job for us. it is a moral responsibility.\"\n",
      "This was an unfair interview to Trump. He has not had the chance to ask Putin what his positions on these matters should be.\n",
      "\n",
      "https://www.yahoo.com/news/trump-flip-flops-6-times-in-1-hour-nyt-interview-203417722.html\n",
      "Both directions of the Coronado Bridge remain closed due to police activity.\n",
      "\n",
      "Our Breaking News Tracker is at the scene and will have the latest on the situation on #10Newsat11.\n",
      "This is why we need to end the War on Drugs\n"
     ]
    }
   ],
   "source": [
    "top_1000_pages['post_message'].sample(5).apply(lambda x: print(x));"
   ]
  },
  {
   "cell_type": "code",
   "execution_count": 36,
   "id": "arbitrary-quality",
   "metadata": {},
   "outputs": [
    {
     "name": "stdout",
     "output_type": "stream",
     "text": [
      "1410491\n",
      "13337455\n",
      "null rate: 0.105754 %\n"
     ]
    }
   ],
   "source": [
    "print(top_1000_pages['post_message'].isna().sum())\n",
    "print(top_1000_pages['post_message'].notna().sum())\n",
    "print(f\"null rate: {top_1000_pages['post_message'].isna().sum() / top_1000_pages['post_message'].notna().sum():.6f} %\")"
   ]
  },
  {
   "cell_type": "markdown",
   "id": "strange-replication",
   "metadata": {},
   "source": [
    "### English Lanuage Detection\n",
    "The reason I use fasttext: [Benchmarking Language Detection for NLP](https://towardsdatascience.com/benchmarking-language-detection-for-nlp-8250ea8b67c)"
   ]
  },
  {
   "cell_type": "code",
   "execution_count": 14,
   "id": "overall-console",
   "metadata": {},
   "outputs": [
    {
     "name": "stderr",
     "output_type": "stream",
     "text": [
      "Warning : `load_model` does not return WordVectorModel or SupervisedModel any more, but a `FastText` object which is very similar.\n"
     ]
    },
    {
     "ename": "ValueError",
     "evalue": "lid.176.bin cannot be opened for loading!",
     "output_type": "error",
     "traceback": [
      "\u001b[0;31m---------------------------------------------------------------------------\u001b[0m",
      "\u001b[0;31mValueError\u001b[0m                                Traceback (most recent call last)",
      "\u001b[0;32m<ipython-input-14-e2d31c8b99fd>\u001b[0m in \u001b[0;36m<module>\u001b[0;34m\u001b[0m\n\u001b[1;32m      1\u001b[0m \u001b[0mpretrained_model\u001b[0m \u001b[0;34m=\u001b[0m \u001b[0;34m\"lid.176.bin\"\u001b[0m\u001b[0;34m\u001b[0m\u001b[0;34m\u001b[0m\u001b[0m\n\u001b[0;32m----> 2\u001b[0;31m \u001b[0mmodel\u001b[0m \u001b[0;34m=\u001b[0m \u001b[0mfasttext\u001b[0m\u001b[0;34m.\u001b[0m\u001b[0mload_model\u001b[0m\u001b[0;34m(\u001b[0m\u001b[0mpretrained_model\u001b[0m\u001b[0;34m)\u001b[0m\u001b[0;34m\u001b[0m\u001b[0;34m\u001b[0m\u001b[0m\n\u001b[0m\u001b[1;32m      3\u001b[0m \u001b[0;34m\u001b[0m\u001b[0m\n",
      "\u001b[0;32m~/.conda/envs/usfb/lib/python3.7/site-packages/fasttext/FastText.py\u001b[0m in \u001b[0;36mload_model\u001b[0;34m(path)\u001b[0m\n\u001b[1;32m    439\u001b[0m     \u001b[0;34m\"\"\"Load a model given a filepath and return a model object.\"\"\"\u001b[0m\u001b[0;34m\u001b[0m\u001b[0;34m\u001b[0m\u001b[0m\n\u001b[1;32m    440\u001b[0m     \u001b[0meprint\u001b[0m\u001b[0;34m(\u001b[0m\u001b[0;34m\"Warning : `load_model` does not return WordVectorModel or SupervisedModel any more, but a `FastText` object which is very similar.\"\u001b[0m\u001b[0;34m)\u001b[0m\u001b[0;34m\u001b[0m\u001b[0;34m\u001b[0m\u001b[0m\n\u001b[0;32m--> 441\u001b[0;31m     \u001b[0;32mreturn\u001b[0m \u001b[0m_FastText\u001b[0m\u001b[0;34m(\u001b[0m\u001b[0mmodel_path\u001b[0m\u001b[0;34m=\u001b[0m\u001b[0mpath\u001b[0m\u001b[0;34m)\u001b[0m\u001b[0;34m\u001b[0m\u001b[0;34m\u001b[0m\u001b[0m\n\u001b[0m\u001b[1;32m    442\u001b[0m \u001b[0;34m\u001b[0m\u001b[0m\n\u001b[1;32m    443\u001b[0m \u001b[0;34m\u001b[0m\u001b[0m\n",
      "\u001b[0;32m~/.conda/envs/usfb/lib/python3.7/site-packages/fasttext/FastText.py\u001b[0m in \u001b[0;36m__init__\u001b[0;34m(self, model_path, args)\u001b[0m\n\u001b[1;32m     96\u001b[0m         \u001b[0mself\u001b[0m\u001b[0;34m.\u001b[0m\u001b[0mf\u001b[0m \u001b[0;34m=\u001b[0m \u001b[0mfasttext\u001b[0m\u001b[0;34m.\u001b[0m\u001b[0mfasttext\u001b[0m\u001b[0;34m(\u001b[0m\u001b[0;34m)\u001b[0m\u001b[0;34m\u001b[0m\u001b[0;34m\u001b[0m\u001b[0m\n\u001b[1;32m     97\u001b[0m         \u001b[0;32mif\u001b[0m \u001b[0mmodel_path\u001b[0m \u001b[0;32mis\u001b[0m \u001b[0;32mnot\u001b[0m \u001b[0;32mNone\u001b[0m\u001b[0;34m:\u001b[0m\u001b[0;34m\u001b[0m\u001b[0;34m\u001b[0m\u001b[0m\n\u001b[0;32m---> 98\u001b[0;31m             \u001b[0mself\u001b[0m\u001b[0;34m.\u001b[0m\u001b[0mf\u001b[0m\u001b[0;34m.\u001b[0m\u001b[0mloadModel\u001b[0m\u001b[0;34m(\u001b[0m\u001b[0mmodel_path\u001b[0m\u001b[0;34m)\u001b[0m\u001b[0;34m\u001b[0m\u001b[0;34m\u001b[0m\u001b[0m\n\u001b[0m\u001b[1;32m     99\u001b[0m         \u001b[0mself\u001b[0m\u001b[0;34m.\u001b[0m\u001b[0m_words\u001b[0m \u001b[0;34m=\u001b[0m \u001b[0;32mNone\u001b[0m\u001b[0;34m\u001b[0m\u001b[0;34m\u001b[0m\u001b[0m\n\u001b[1;32m    100\u001b[0m         \u001b[0mself\u001b[0m\u001b[0;34m.\u001b[0m\u001b[0m_labels\u001b[0m \u001b[0;34m=\u001b[0m \u001b[0;32mNone\u001b[0m\u001b[0;34m\u001b[0m\u001b[0;34m\u001b[0m\u001b[0m\n",
      "\u001b[0;31mValueError\u001b[0m: lid.176.bin cannot be opened for loading!"
     ]
    }
   ],
   "source": [
    "pretrained_model = \"lid.176.bin\" \n",
    "model = fasttext.load_model(pretrained_model)\n",
    "\n"
   ]
  },
  {
   "cell_type": "code",
   "execution_count": null,
   "id": "canadian-tomorrow",
   "metadata": {},
   "outputs": [],
   "source": []
  },
  {
   "cell_type": "code",
   "execution_count": null,
   "id": "choice-picture",
   "metadata": {},
   "outputs": [],
   "source": []
  },
  {
   "cell_type": "code",
   "execution_count": null,
   "id": "matched-booking",
   "metadata": {},
   "outputs": [],
   "source": []
  },
  {
   "cell_type": "code",
   "execution_count": null,
   "id": "senior-flush",
   "metadata": {},
   "outputs": [],
   "source": []
  },
  {
   "cell_type": "code",
   "execution_count": null,
   "id": "supreme-philippines",
   "metadata": {},
   "outputs": [],
   "source": []
  },
  {
   "cell_type": "code",
   "execution_count": null,
   "id": "major-present",
   "metadata": {},
   "outputs": [],
   "source": []
  },
  {
   "cell_type": "code",
   "execution_count": null,
   "id": "greenhouse-diana",
   "metadata": {},
   "outputs": [],
   "source": []
  }
 ],
 "metadata": {
  "kernelspec": {
   "display_name": "Python 3",
   "language": "python",
   "name": "python3"
  },
  "language_info": {
   "codemirror_mode": {
    "name": "ipython",
    "version": 3
   },
   "file_extension": ".py",
   "mimetype": "text/x-python",
   "name": "python",
   "nbconvert_exporter": "python",
   "pygments_lexer": "ipython3",
   "version": "3.7.10"
  }
 },
 "nbformat": 4,
 "nbformat_minor": 5
}
